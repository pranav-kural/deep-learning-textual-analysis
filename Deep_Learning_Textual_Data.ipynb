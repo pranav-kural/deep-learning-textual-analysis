{
  "nbformat": 4,
  "nbformat_minor": 0,
  "metadata": {
    "colab": {
      "provenance": [],
      "toc_visible": true,
      "mount_file_id": "1Ru7MURyZ3FFBMxwm-Khxk7RYEMxTZihH",
      "authorship_tag": "ABX9TyOrnHn9cdX6uGfPgiGdJ4Z7",
      "include_colab_link": true
    },
    "kernelspec": {
      "name": "python3",
      "display_name": "Python 3"
    },
    "language_info": {
      "name": "python"
    }
  },
  "cells": [
    {
      "cell_type": "markdown",
      "metadata": {
        "id": "view-in-github",
        "colab_type": "text"
      },
      "source": [
        "<a href=\"https://colab.research.google.com/github/pranav-kural/deep-learning-textual-analysis/blob/main/Deep_Learning_Textual_Data.ipynb\" target=\"_parent\"><img src=\"https://colab.research.google.com/assets/colab-badge.svg\" alt=\"Open In Colab\"/></a>"
      ]
    },
    {
      "cell_type": "markdown",
      "source": [
        "# Deep Learning Applied to Textual Data\n",
        "\n",
        "In this notebook we will perform a classification empirical study using real textual data.\n",
        "\n",
        "This is part of **Assignment 4** of the course CSI4106 at University of Ottawa.\n",
        "\n",
        "Author: Pranav Kural\n",
        "\n",
        "Group: 28 | Student number: 300241227"
      ],
      "metadata": {
        "id": "hKbaMcWMbxhS"
      }
    },
    {
      "cell_type": "markdown",
      "source": [
        "## Data\n",
        "\n",
        "Let's begin by having a closer look at our data.\n",
        "\n",
        "Dataset selected: **Airline Passenger Reviews**\n",
        "\n",
        "Reason for selection:\n",
        "\n",
        "- Enough training data is available and the class imabalance is not too bad.\n",
        "\n",
        "- Did not choose the **4000 CNN articles dataset** because of the presence of too many classes, and the difficulty of effectively classifying articles when there is an overlap, for example, an article about US and politics has to be categorized into only one of the categories, even though it may relate to both equally. Also, less training data is available in comparison to other datasets.\n",
        "\n",
        "- Did not choose the **UCI Drug Review dataset** because the substantial class imabalance in the dataset. One dominant condition \"birth control\" accounts for more than all other conditions combined (based on original dataset)."
      ],
      "metadata": {
        "id": "qdwZHhNArKUB"
      }
    },
    {
      "cell_type": "markdown",
      "source": [
        "## 1. Generate two additional datasets\n",
        "\n",
        "We will generate two additional datasets from our selected original dataset, so that we have three datasets to work with at the end:\n",
        "\n",
        "- Original Dataset\n",
        "- Derived-Dataset-1: contains subset of POS tags (Part-of-Speech tags)\n",
        "- Derived-Dataset-2: contains subset of named entities found in the text + some POS of importance\n",
        "\n",
        "For example:\n",
        "\n",
        "- Original Dataset\n",
        "- Derived-Dataset-1 with only the verbs and adjectives lemmatized\n",
        "- Derived-Dataset-2 with 3 types of named entities (organizations, money and dates) and with adjectives lemmatized\n",
        "\n",
        "In our classification experiments, we will test with these 3 datasets and compare results."
      ],
      "metadata": {
        "id": "Zkf2JqUaF6Yw"
      }
    },
    {
      "cell_type": "markdown",
      "source": [
        "### Original Dataset\n",
        "\n",
        "We will be using a reduced version of the original dataset for this study. The dataset being used is openly available at: https://github.com/baharin/CSI4106-Assignment4-Datasets/blob/main/reduced_file_AirPassengerReviews.csv\n",
        "\n"
      ],
      "metadata": {
        "id": "oSymS7dPuZmS"
      }
    },
    {
      "cell_type": "code",
      "source": [
        "# original dataset"
      ],
      "metadata": {
        "id": "-VnkuyleuW1-"
      },
      "execution_count": null,
      "outputs": []
    },
    {
      "cell_type": "markdown",
      "source": [
        "### Derived Dataset 1\n",
        "\n",
        "For generating our first derived dataset, we will focus on following POS:\n",
        "\n",
        "**Reasoning**\n",
        "\n"
      ],
      "metadata": {
        "id": "fi42e8poah1g"
      }
    },
    {
      "cell_type": "code",
      "execution_count": 1,
      "metadata": {
        "id": "PCtgX3MwEbAb"
      },
      "outputs": [],
      "source": [
        "# generate derived-ds-1\n"
      ]
    },
    {
      "cell_type": "markdown",
      "source": [
        "### Derived Dataset 2\n",
        "\n",
        "For generating our first derived dataset, we will focus on following named entities and POS:\n",
        "\n",
        "**Reasoning**\n",
        "\n"
      ],
      "metadata": {
        "id": "qjC0jC_KazjN"
      }
    },
    {
      "cell_type": "code",
      "source": [
        "# generate derived-ds-1\n"
      ],
      "metadata": {
        "id": "lhoZ6T7ma5sT"
      },
      "execution_count": null,
      "outputs": []
    },
    {
      "cell_type": "markdown",
      "source": [
        "\n",
        "\n",
        "---\n",
        "\n"
      ],
      "metadata": {
        "id": "48u8P8OFHLO_"
      }
    },
    {
      "cell_type": "markdown",
      "source": [
        "## 2. Classification Empirical Study"
      ],
      "metadata": {
        "id": "WgjCZsiVSY7W"
      }
    },
    {
      "cell_type": "markdown",
      "source": [
        "\n",
        "### 1. Encode text as input features with associated values\n",
        "\n",
        "Using `scikit-learn` we encode the text data as features which can than be used in our deep learning model. The text becomes a [bag-of-words](#) where each word becomes an independent feature.\n",
        "\n",
        "We will also remove [stopwords](#) to reduce the corpus size and use tf-idf as attribute value.\n",
        "\n",
        "**Why use TF-IDF?**\n",
        "\n",
        "Using relative frequency of a word in the corpus allows for better identification of more important and meaningful words relative to the documents, instead of simply assigning the importance of a word based on its frequency in the corpus. For example, a word occuring more often in only two of the six documents would likely be more important and meaningful to those two documents, compared to a word that occurs more frequently in all the six documents. <sup>[3](#)</sup>"
      ],
      "metadata": {
        "id": "IgWB_lnmHNQ2"
      }
    },
    {
      "cell_type": "markdown",
      "source": [
        "<img src=\"https://drive.google.com/uc?id=1qiq4wWu4078sHKhDdeW6-5YgM-qwnbmy\" alt=\"TF-IDF\" width=400 />\n",
        "<p id=\"img-source\">source: <a href=\"https://youtu.be/fIYSi41f1yg?si=-oFATPFxyop7RnmE\">NLP Demystified 6: TF-IDF and Simple Document Search</a></p>"
      ],
      "metadata": {
        "id": "dpESn2fxQNBw"
      }
    },
    {
      "cell_type": "code",
      "source": [
        "# remove stopwords\n",
        "\n",
        "# generate bag-of-words using tf-idf\n"
      ],
      "metadata": {
        "id": "VO4ElwIfLd65"
      },
      "execution_count": null,
      "outputs": []
    },
    {
      "cell_type": "markdown",
      "source": [
        "### 2. Two models using default parameters\n",
        "\n",
        "We will define two models using default parameters. One supervised learning model ([Logistic Regression Model](https://scikit-learn.org/stable/modules/generated/sklearn.linear_model.LogisticRegression.html#sklearn.linear_model.LogisticRegression)) and one deep learning model ([MLP classifier model](https://scikit-learn.org/stable/modules/generated/sklearn.neural_network.MLPClassifier.html))."
      ],
      "metadata": {
        "id": "esUIVh1ESKdB"
      }
    },
    {
      "cell_type": "code",
      "source": [
        "# Logistic Regression model\n",
        "\n",
        "# MLP classifier model\n"
      ],
      "metadata": {
        "id": "hHfB87cMTISI"
      },
      "execution_count": null,
      "outputs": []
    },
    {
      "cell_type": "markdown",
      "source": [
        "### 3. Train Test Evaluate\n",
        "\n",
        "Now, we will train, test and evaluate previously defined two models (using default parameters) on the three datasets (original dataset, derived-dataset-1 and derived-dataset-2)."
      ],
      "metadata": {
        "id": "hXMn6HgATaCO"
      }
    },
    {
      "cell_type": "code",
      "source": [
        "# define models with default parameters\n",
        "lg = None\n",
        "\n",
        "mlp_1 = None"
      ],
      "metadata": {
        "id": "b_WKkABBXvPD"
      },
      "execution_count": null,
      "outputs": []
    },
    {
      "cell_type": "markdown",
      "source": [
        "#### 1. Train\n",
        "\n",
        "We will be using [4-fold cross validation](https://scikit-learn.org/stable/modules/generated/sklearn.model_selection.KFold.html) for each of the models."
      ],
      "metadata": {
        "id": "aNhmzbKuUX9d"
      }
    },
    {
      "cell_type": "code",
      "source": [
        "# define cross validation\n",
        "\n",
        "# training pipeline\n",
        "\n",
        "# train each of the models\n"
      ],
      "metadata": {
        "id": "4TNkLzD6UD4F"
      },
      "execution_count": null,
      "outputs": []
    },
    {
      "cell_type": "markdown",
      "source": [
        "#### 2. Evaluate\n",
        "\n",
        "We will now evaluate the precision/recall measures of each of the models. Since, we are working with a multi-class classification problem, we will be comparing both micro and macro averages."
      ],
      "metadata": {
        "id": "BZ1pvq6kUDKJ"
      }
    },
    {
      "cell_type": "code",
      "source": [
        "# function generate visual graphs for comparison of precision and recall\n"
      ],
      "metadata": {
        "id": "Qv2AdMjyVdvp"
      },
      "execution_count": null,
      "outputs": []
    },
    {
      "cell_type": "code",
      "source": [
        "# compare micro precision and recall of our models on the three datasets\n",
        "\n",
        "# original dataset\n",
        "\n",
        "# derived-dataset-1\n",
        "\n",
        "# derived-dataset-2\n"
      ],
      "metadata": {
        "id": "TYhvSpSXU3sP"
      },
      "execution_count": null,
      "outputs": []
    },
    {
      "cell_type": "code",
      "source": [
        "# compare macro precision and recall of our models on the three datasets\n",
        "\n",
        "# original dataset\n",
        "\n",
        "# derived-dataset-1\n",
        "\n",
        "# derived-dataset-2\n"
      ],
      "metadata": {
        "id": "Re6Hh7gJVMel"
      },
      "execution_count": null,
      "outputs": []
    },
    {
      "cell_type": "code",
      "source": [
        "# compare micro and macro precision of our models on the three datasets\n",
        "\n",
        "# original dataset\n",
        "\n",
        "# derived-dataset-1\n",
        "\n",
        "# derived-dataset-2\n"
      ],
      "metadata": {
        "id": "ltevf_Y0VQ9w"
      },
      "execution_count": null,
      "outputs": []
    },
    {
      "cell_type": "code",
      "source": [
        "# compare micro and macro recall of our models on the three datasets\n",
        "\n",
        "# original dataset\n",
        "\n",
        "# derived-dataset-1\n",
        "\n",
        "# derived-dataset-2\n"
      ],
      "metadata": {
        "id": "r-UJnSgLVYUp"
      },
      "execution_count": null,
      "outputs": []
    },
    {
      "cell_type": "markdown",
      "source": [
        "**Observations:**\n",
        "\n",
        "\n",
        "**How the class imbalance impacts the micro/macro results?**\n",
        "\n"
      ],
      "metadata": {
        "id": "-RXcIO66VnfI"
      }
    },
    {
      "cell_type": "markdown",
      "source": [
        "## 4. Improving our MLP classifier model\n",
        "\n",
        "Now, that we have examined the performance of our models with default parameters, we will modify some parameters of our MLP classifier model, and train, test and evaluate its performance again, to see how changes in parameters affect the model performance.\n",
        "\n",
        "We will do this **two times**."
      ],
      "metadata": {
        "id": "xpA1FxguV30X"
      }
    },
    {
      "cell_type": "markdown",
      "source": [
        "### 1. Attempt 1 - MLP model #2\n",
        "\n",
        "Parameters being changes:\n",
        "\n",
        "- Activation function:\n",
        "- Hidden layer size:\n",
        "- Learning rate:\n",
        "\n",
        "**Reasoning:**\n",
        "\n",
        "\n",
        "\n"
      ],
      "metadata": {
        "id": "Rhz3wW_PWluS"
      }
    },
    {
      "cell_type": "code",
      "source": [
        "# parameters\n",
        "\n",
        "# instantiate the new MLP model\n",
        "mlp_2 = None\n",
        "\n",
        "# train the new model\n"
      ],
      "metadata": {
        "id": "cy70Buf8XMxz"
      },
      "execution_count": null,
      "outputs": []
    },
    {
      "cell_type": "markdown",
      "source": [
        "### 2. Attempt 2 - MLP model #3\n",
        "\n",
        "Parameters being changes:\n",
        "\n",
        "- Activation function:\n",
        "- Hidden layer size:\n",
        "- Learning rate:\n",
        "\n",
        "**Reasoning:**\n",
        "\n",
        "\n"
      ],
      "metadata": {
        "id": "9wQp7AO1XhWf"
      }
    },
    {
      "cell_type": "code",
      "source": [
        "# parameters\n",
        "\n",
        "# instantiate the new MLP model\n",
        "mlp_3 = None\n",
        "\n",
        "# train the new model\n"
      ],
      "metadata": {
        "id": "IQSpUwKwXnoH"
      },
      "execution_count": null,
      "outputs": []
    },
    {
      "cell_type": "markdown",
      "source": [
        "## 5. Comparative Analysis\n",
        "\n",
        "We will now quantitatively and visually compare the precision and recall measures of our 12 results. The 12 results come  from 4 models (Logistic Regression + 3 variations of MLP) each applied on 3 datasets (Original + Derived1 + Derived2).\n"
      ],
      "metadata": {
        "id": "KdeRUTHXYArd"
      }
    },
    {
      "cell_type": "markdown",
      "source": [
        "### Comparison 1\n",
        "\n",
        "- LG applied to Original Dataset\n",
        "- MLP (with default parameters) applied to Original Dataset"
      ],
      "metadata": {
        "id": "Uz04l591ZVic"
      }
    },
    {
      "cell_type": "code",
      "source": [
        "# compare micro precision and recall of our models\n",
        "\n",
        "# compare macro precision and recall of our models\n"
      ],
      "metadata": {
        "id": "PR8PfGcUZaxv"
      },
      "execution_count": null,
      "outputs": []
    },
    {
      "cell_type": "markdown",
      "source": [
        "#### Observations\n",
        "\n"
      ],
      "metadata": {
        "id": "IYfc80suZzQP"
      }
    },
    {
      "cell_type": "markdown",
      "source": [
        "### Comparison 2\n",
        "\n",
        "- MLP (with default parameters) applied to Original Dataset\n",
        "- MLP (with modified parameters) applied to Original Dataset"
      ],
      "metadata": {
        "id": "bVtQfWWkZbK1"
      }
    },
    {
      "cell_type": "code",
      "source": [
        "# compare micro precision and recall of our models\n",
        "\n",
        "# compare macro precision and recall of our models\n"
      ],
      "metadata": {
        "id": "V2HTxqtPZe3Z"
      },
      "execution_count": null,
      "outputs": []
    },
    {
      "cell_type": "markdown",
      "source": [
        "#### Observations\n",
        "\n"
      ],
      "metadata": {
        "id": "38ODLMItZyJK"
      }
    },
    {
      "cell_type": "markdown",
      "source": [
        "### Comparison 3\n",
        "\n",
        "- MLP (with default parameters) applied to Derived Dataset 1\n",
        "- MLP (with modified parameters) applied to Derived Dataset 1"
      ],
      "metadata": {
        "id": "lsgbuylIZfOw"
      }
    },
    {
      "cell_type": "code",
      "source": [
        "# compare micro precision and recall of our models\n",
        "\n",
        "# compare macro precision and recall of our models\n"
      ],
      "metadata": {
        "id": "OWEZgYxuZkwz"
      },
      "execution_count": null,
      "outputs": []
    },
    {
      "cell_type": "markdown",
      "source": [
        "#### Observations\n",
        "\n"
      ],
      "metadata": {
        "id": "K1KeuUHyZxF3"
      }
    },
    {
      "cell_type": "markdown",
      "source": [
        "### Comparison 4\n",
        "\n",
        "- MLP (with default parameters) applied to Derived Dataset 2\n",
        "- MLP (with modified parameters) applied to Derived Dataset 2"
      ],
      "metadata": {
        "id": "NAqSBZixZk_i"
      }
    },
    {
      "cell_type": "code",
      "source": [
        "# compare micro precision and recall of our models\n",
        "\n",
        "# compare macro precision and recall of our models\n"
      ],
      "metadata": {
        "id": "P9d_9BnkZp9V"
      },
      "execution_count": null,
      "outputs": []
    },
    {
      "cell_type": "markdown",
      "source": [
        "#### Observations\n",
        "\n"
      ],
      "metadata": {
        "id": "EyI6pGHpZqmd"
      }
    },
    {
      "cell_type": "markdown",
      "source": [
        "## 6. Conclusion\n",
        "\n"
      ],
      "metadata": {
        "id": "kUPwAx-tbTr0"
      }
    },
    {
      "cell_type": "markdown",
      "source": [
        "## 7. References\n",
        "\n"
      ],
      "metadata": {
        "id": "3H3cb0xDbWhl"
      }
    }
  ]
}